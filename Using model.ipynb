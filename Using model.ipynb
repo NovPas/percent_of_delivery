{
 "cells": [
  {
   "cell_type": "code",
   "execution_count": 1,
   "id": "b1d232f1",
   "metadata": {},
   "outputs": [],
   "source": [
    "import pandas as pd\n",
    "import pickle\n",
    "import json"
   ]
  },
  {
   "cell_type": "code",
   "execution_count": 2,
   "id": "ee0c8156",
   "metadata": {},
   "outputs": [],
   "source": [
    "# pip freeze > requirements.txt"
   ]
  },
  {
   "cell_type": "code",
   "execution_count": 3,
   "id": "6e6223ef",
   "metadata": {
    "scrolled": false
   },
   "outputs": [
    {
     "data": {
      "text/html": [
       "<style>#sk-container-id-1 {color: black;}#sk-container-id-1 pre{padding: 0;}#sk-container-id-1 div.sk-toggleable {background-color: white;}#sk-container-id-1 label.sk-toggleable__label {cursor: pointer;display: block;width: 100%;margin-bottom: 0;padding: 0.3em;box-sizing: border-box;text-align: center;}#sk-container-id-1 label.sk-toggleable__label-arrow:before {content: \"▸\";float: left;margin-right: 0.25em;color: #696969;}#sk-container-id-1 label.sk-toggleable__label-arrow:hover:before {color: black;}#sk-container-id-1 div.sk-estimator:hover label.sk-toggleable__label-arrow:before {color: black;}#sk-container-id-1 div.sk-toggleable__content {max-height: 0;max-width: 0;overflow: hidden;text-align: left;background-color: #f0f8ff;}#sk-container-id-1 div.sk-toggleable__content pre {margin: 0.2em;color: black;border-radius: 0.25em;background-color: #f0f8ff;}#sk-container-id-1 input.sk-toggleable__control:checked~div.sk-toggleable__content {max-height: 200px;max-width: 100%;overflow: auto;}#sk-container-id-1 input.sk-toggleable__control:checked~label.sk-toggleable__label-arrow:before {content: \"▾\";}#sk-container-id-1 div.sk-estimator input.sk-toggleable__control:checked~label.sk-toggleable__label {background-color: #d4ebff;}#sk-container-id-1 div.sk-label input.sk-toggleable__control:checked~label.sk-toggleable__label {background-color: #d4ebff;}#sk-container-id-1 input.sk-hidden--visually {border: 0;clip: rect(1px 1px 1px 1px);clip: rect(1px, 1px, 1px, 1px);height: 1px;margin: -1px;overflow: hidden;padding: 0;position: absolute;width: 1px;}#sk-container-id-1 div.sk-estimator {font-family: monospace;background-color: #f0f8ff;border: 1px dotted black;border-radius: 0.25em;box-sizing: border-box;margin-bottom: 0.5em;}#sk-container-id-1 div.sk-estimator:hover {background-color: #d4ebff;}#sk-container-id-1 div.sk-parallel-item::after {content: \"\";width: 100%;border-bottom: 1px solid gray;flex-grow: 1;}#sk-container-id-1 div.sk-label:hover label.sk-toggleable__label {background-color: #d4ebff;}#sk-container-id-1 div.sk-serial::before {content: \"\";position: absolute;border-left: 1px solid gray;box-sizing: border-box;top: 0;bottom: 0;left: 50%;z-index: 0;}#sk-container-id-1 div.sk-serial {display: flex;flex-direction: column;align-items: center;background-color: white;padding-right: 0.2em;padding-left: 0.2em;position: relative;}#sk-container-id-1 div.sk-item {position: relative;z-index: 1;}#sk-container-id-1 div.sk-parallel {display: flex;align-items: stretch;justify-content: center;background-color: white;position: relative;}#sk-container-id-1 div.sk-item::before, #sk-container-id-1 div.sk-parallel-item::before {content: \"\";position: absolute;border-left: 1px solid gray;box-sizing: border-box;top: 0;bottom: 0;left: 50%;z-index: -1;}#sk-container-id-1 div.sk-parallel-item {display: flex;flex-direction: column;z-index: 1;position: relative;background-color: white;}#sk-container-id-1 div.sk-parallel-item:first-child::after {align-self: flex-end;width: 50%;}#sk-container-id-1 div.sk-parallel-item:last-child::after {align-self: flex-start;width: 50%;}#sk-container-id-1 div.sk-parallel-item:only-child::after {width: 0;}#sk-container-id-1 div.sk-dashed-wrapped {border: 1px dashed gray;margin: 0 0.4em 0.5em 0.4em;box-sizing: border-box;padding-bottom: 0.4em;background-color: white;}#sk-container-id-1 div.sk-label label {font-family: monospace;font-weight: bold;display: inline-block;line-height: 1.2em;}#sk-container-id-1 div.sk-label-container {text-align: center;}#sk-container-id-1 div.sk-container {/* jupyter's `normalize.less` sets `[hidden] { display: none; }` but bootstrap.min.css set `[hidden] { display: none !important; }` so we also need the `!important` here to be able to override the default hidden behavior on the sphinx rendered scikit-learn.org. See: https://github.com/scikit-learn/scikit-learn/issues/21755 */display: inline-block !important;position: relative;}#sk-container-id-1 div.sk-text-repr-fallback {display: none;}</style><div id=\"sk-container-id-1\" class=\"sk-top-container\"><div class=\"sk-text-repr-fallback\"><pre>DecisionTreeClassifier(criterion=&#x27;entropy&#x27;, max_depth=10)</pre><b>In a Jupyter environment, please rerun this cell to show the HTML representation or trust the notebook. <br />On GitHub, the HTML representation is unable to render, please try loading this page with nbviewer.org.</b></div><div class=\"sk-container\" hidden><div class=\"sk-item\"><div class=\"sk-estimator sk-toggleable\"><input class=\"sk-toggleable__control sk-hidden--visually\" id=\"sk-estimator-id-1\" type=\"checkbox\" checked><label for=\"sk-estimator-id-1\" class=\"sk-toggleable__label sk-toggleable__label-arrow\">DecisionTreeClassifier</label><div class=\"sk-toggleable__content\"><pre>DecisionTreeClassifier(criterion=&#x27;entropy&#x27;, max_depth=10)</pre></div></div></div></div></div>"
      ],
      "text/plain": [
       "DecisionTreeClassifier(criterion='entropy', max_depth=10)"
      ]
     },
     "execution_count": 3,
     "metadata": {},
     "output_type": "execute_result"
    }
   ],
   "source": [
    "filename = 'clf_model.sav'\n",
    "best_clf = pickle.load(open(filename, 'rb'))\n",
    "# score = best_clf.score(X_test, y_test)\n",
    "best_clf"
   ]
  },
  {
   "cell_type": "code",
   "execution_count": 4,
   "id": "778b5f66",
   "metadata": {},
   "outputs": [],
   "source": [
    "with open('department_codes.json', 'r') as f:\n",
    "    department_codes = json.load(f)"
   ]
  },
  {
   "cell_type": "code",
   "execution_count": 5,
   "id": "e19ea435",
   "metadata": {},
   "outputs": [],
   "source": [
    "data = '''\n",
    "{\n",
    "\"predict_delivery\":\n",
    "    [\n",
    "        {\n",
    "        \"OrderNumber\": \"DL00-037866\",\n",
    "        \"OrderDate\": \"2022-08-01\", \n",
    "        \"OrderAmount\": 8524, \n",
    "        \"DeliveryAttempt\": 4, \n",
    "        \"DeliveryDate\": \"2022-08-03\",\n",
    "        \"Department\": \"Владикавказ\"\n",
    "        },\n",
    "        {\n",
    "        \"OrderNumber\": \"DL00-037867\",\n",
    "        \"OrderDate\": \"2022-07-01\", \n",
    "        \"OrderAmount\": 2000, \n",
    "        \"DeliveryAttempt\": 0, \n",
    "        \"DeliveryDate\": \"2022-07-03\",\n",
    "        \"Department\": \"Москва\"\n",
    "        }       \n",
    "    ]\n",
    "}\n",
    "'''"
   ]
  },
  {
   "cell_type": "code",
   "execution_count": 6,
   "id": "bcaf3d63",
   "metadata": {},
   "outputs": [],
   "source": [
    "dict1 = json.loads(data)"
   ]
  },
  {
   "cell_type": "code",
   "execution_count": 7,
   "id": "4c3a6bc4",
   "metadata": {},
   "outputs": [
    {
     "data": {
      "text/plain": [
       "[{'OrderNumber': 'DL00-037866',\n",
       "  'OrderDate': '2022-08-01',\n",
       "  'OrderAmount': 8524,\n",
       "  'DeliveryAttempt': 4,\n",
       "  'DeliveryDate': '2022-08-03',\n",
       "  'Department': 'Владикавказ'},\n",
       " {'OrderNumber': 'DL00-037867',\n",
       "  'OrderDate': '2022-07-01',\n",
       "  'OrderAmount': 2000,\n",
       "  'DeliveryAttempt': 0,\n",
       "  'DeliveryDate': '2022-07-03',\n",
       "  'Department': 'Москва'}]"
      ]
     },
     "execution_count": 7,
     "metadata": {},
     "output_type": "execute_result"
    }
   ],
   "source": [
    "dict1['predict_delivery']"
   ]
  },
  {
   "cell_type": "code",
   "execution_count": 8,
   "id": "a19bd34a",
   "metadata": {},
   "outputs": [
    {
     "data": {
      "text/html": [
       "<div>\n",
       "<style scoped>\n",
       "    .dataframe tbody tr th:only-of-type {\n",
       "        vertical-align: middle;\n",
       "    }\n",
       "\n",
       "    .dataframe tbody tr th {\n",
       "        vertical-align: top;\n",
       "    }\n",
       "\n",
       "    .dataframe thead th {\n",
       "        text-align: right;\n",
       "    }\n",
       "</style>\n",
       "<table border=\"1\" class=\"dataframe\">\n",
       "  <thead>\n",
       "    <tr style=\"text-align: right;\">\n",
       "      <th></th>\n",
       "      <th>OrderNumber</th>\n",
       "      <th>OrderDate</th>\n",
       "      <th>OrderAmount</th>\n",
       "      <th>DeliveryAttempt</th>\n",
       "      <th>DeliveryDate</th>\n",
       "      <th>Department</th>\n",
       "    </tr>\n",
       "  </thead>\n",
       "  <tbody>\n",
       "    <tr>\n",
       "      <th>0</th>\n",
       "      <td>DL00-037866</td>\n",
       "      <td>2022-08-01</td>\n",
       "      <td>8524</td>\n",
       "      <td>4</td>\n",
       "      <td>2022-08-03</td>\n",
       "      <td>Владикавказ</td>\n",
       "    </tr>\n",
       "    <tr>\n",
       "      <th>1</th>\n",
       "      <td>DL00-037867</td>\n",
       "      <td>2022-07-01</td>\n",
       "      <td>2000</td>\n",
       "      <td>0</td>\n",
       "      <td>2022-07-03</td>\n",
       "      <td>Москва</td>\n",
       "    </tr>\n",
       "  </tbody>\n",
       "</table>\n",
       "</div>"
      ],
      "text/plain": [
       "   OrderNumber   OrderDate  OrderAmount  DeliveryAttempt DeliveryDate  \\\n",
       "0  DL00-037866  2022-08-01         8524                4   2022-08-03   \n",
       "1  DL00-037867  2022-07-01         2000                0   2022-07-03   \n",
       "\n",
       "    Department  \n",
       "0  Владикавказ  \n",
       "1       Москва  "
      ]
     },
     "execution_count": 8,
     "metadata": {},
     "output_type": "execute_result"
    }
   ],
   "source": [
    "df = pd.json_normalize(dict1['predict_delivery'])\n",
    "df"
   ]
  },
  {
   "cell_type": "code",
   "execution_count": 9,
   "id": "155aada5",
   "metadata": {},
   "outputs": [],
   "source": [
    "df[[\"OrderDate\", \"DeliveryDate\"]] = df[[\"OrderDate\", \"DeliveryDate\"]].apply(pd.to_datetime)"
   ]
  },
  {
   "cell_type": "code",
   "execution_count": 10,
   "id": "458148ab",
   "metadata": {},
   "outputs": [],
   "source": [
    "df['DaysDelivery'] = (df['DeliveryDate'] - df['OrderDate']).dt.days"
   ]
  },
  {
   "cell_type": "code",
   "execution_count": 11,
   "id": "f1f9ac40",
   "metadata": {},
   "outputs": [],
   "source": [
    "df['Weekday'] = df['DeliveryDate'].dt.weekday"
   ]
  },
  {
   "cell_type": "code",
   "execution_count": 12,
   "id": "6ba79dd1",
   "metadata": {},
   "outputs": [],
   "source": [
    "df['Department'] = df['Department'].apply(lambda x: department_codes[x])"
   ]
  },
  {
   "cell_type": "code",
   "execution_count": 13,
   "id": "cdf11fb8",
   "metadata": {},
   "outputs": [
    {
     "data": {
      "text/html": [
       "<div>\n",
       "<style scoped>\n",
       "    .dataframe tbody tr th:only-of-type {\n",
       "        vertical-align: middle;\n",
       "    }\n",
       "\n",
       "    .dataframe tbody tr th {\n",
       "        vertical-align: top;\n",
       "    }\n",
       "\n",
       "    .dataframe thead th {\n",
       "        text-align: right;\n",
       "    }\n",
       "</style>\n",
       "<table border=\"1\" class=\"dataframe\">\n",
       "  <thead>\n",
       "    <tr style=\"text-align: right;\">\n",
       "      <th></th>\n",
       "      <th>OrderNumber</th>\n",
       "      <th>OrderDate</th>\n",
       "      <th>OrderAmount</th>\n",
       "      <th>DeliveryAttempt</th>\n",
       "      <th>DeliveryDate</th>\n",
       "      <th>Department</th>\n",
       "      <th>DaysDelivery</th>\n",
       "      <th>Weekday</th>\n",
       "    </tr>\n",
       "  </thead>\n",
       "  <tbody>\n",
       "    <tr>\n",
       "      <th>0</th>\n",
       "      <td>DL00-037866</td>\n",
       "      <td>2022-08-01</td>\n",
       "      <td>8524</td>\n",
       "      <td>4</td>\n",
       "      <td>2022-08-03</td>\n",
       "      <td>7</td>\n",
       "      <td>2</td>\n",
       "      <td>2</td>\n",
       "    </tr>\n",
       "    <tr>\n",
       "      <th>1</th>\n",
       "      <td>DL00-037867</td>\n",
       "      <td>2022-07-01</td>\n",
       "      <td>2000</td>\n",
       "      <td>0</td>\n",
       "      <td>2022-07-03</td>\n",
       "      <td>25</td>\n",
       "      <td>2</td>\n",
       "      <td>6</td>\n",
       "    </tr>\n",
       "  </tbody>\n",
       "</table>\n",
       "</div>"
      ],
      "text/plain": [
       "   OrderNumber  OrderDate  OrderAmount  DeliveryAttempt DeliveryDate  \\\n",
       "0  DL00-037866 2022-08-01         8524                4   2022-08-03   \n",
       "1  DL00-037867 2022-07-01         2000                0   2022-07-03   \n",
       "\n",
       "   Department  DaysDelivery  Weekday  \n",
       "0           7             2        2  \n",
       "1          25             2        6  "
      ]
     },
     "execution_count": 13,
     "metadata": {},
     "output_type": "execute_result"
    }
   ],
   "source": [
    "df"
   ]
  },
  {
   "cell_type": "code",
   "execution_count": 14,
   "id": "6a23bc2d",
   "metadata": {},
   "outputs": [
    {
     "data": {
      "text/html": [
       "<div>\n",
       "<style scoped>\n",
       "    .dataframe tbody tr th:only-of-type {\n",
       "        vertical-align: middle;\n",
       "    }\n",
       "\n",
       "    .dataframe tbody tr th {\n",
       "        vertical-align: top;\n",
       "    }\n",
       "\n",
       "    .dataframe thead th {\n",
       "        text-align: right;\n",
       "    }\n",
       "</style>\n",
       "<table border=\"1\" class=\"dataframe\">\n",
       "  <thead>\n",
       "    <tr style=\"text-align: right;\">\n",
       "      <th></th>\n",
       "      <th>DeliveryAttempt</th>\n",
       "      <th>DaysDelivery</th>\n",
       "      <th>Department</th>\n",
       "      <th>OrderAmount</th>\n",
       "      <th>Weekday</th>\n",
       "    </tr>\n",
       "  </thead>\n",
       "  <tbody>\n",
       "    <tr>\n",
       "      <th>0</th>\n",
       "      <td>4</td>\n",
       "      <td>2</td>\n",
       "      <td>7</td>\n",
       "      <td>8524</td>\n",
       "      <td>2</td>\n",
       "    </tr>\n",
       "    <tr>\n",
       "      <th>1</th>\n",
       "      <td>0</td>\n",
       "      <td>2</td>\n",
       "      <td>25</td>\n",
       "      <td>2000</td>\n",
       "      <td>6</td>\n",
       "    </tr>\n",
       "  </tbody>\n",
       "</table>\n",
       "</div>"
      ],
      "text/plain": [
       "   DeliveryAttempt  DaysDelivery  Department  OrderAmount  Weekday\n",
       "0                4             2           7         8524        2\n",
       "1                0             2          25         2000        6"
      ]
     },
     "execution_count": 14,
     "metadata": {},
     "output_type": "execute_result"
    }
   ],
   "source": [
    "X = df[['DeliveryAttempt', 'DaysDelivery', 'Department', 'OrderAmount', 'Weekday']]\n",
    "X"
   ]
  },
  {
   "cell_type": "code",
   "execution_count": 15,
   "id": "bbf73800",
   "metadata": {},
   "outputs": [],
   "source": [
    "predict_proba_result = best_clf.predict_proba(X)"
   ]
  },
  {
   "cell_type": "code",
   "execution_count": 16,
   "id": "6ab1b191",
   "metadata": {},
   "outputs": [],
   "source": [
    "predict_proba_result_list = predict_proba_result.tolist()"
   ]
  },
  {
   "cell_type": "code",
   "execution_count": 17,
   "id": "48209dcd",
   "metadata": {},
   "outputs": [
    {
     "data": {
      "text/plain": [
       "[{'OrderNumber': 'DL00-037866', 'delivery_prediction': 0.92},\n",
       " {'OrderNumber': 'DL00-037867', 'delivery_prediction': 0.47}]"
      ]
     },
     "execution_count": 17,
     "metadata": {},
     "output_type": "execute_result"
    }
   ],
   "source": [
    "result_list = list()\n",
    "for i in range(len(predict_proba_result_list)):\n",
    "    result_list.append({'OrderNumber': dict1['predict_delivery'][i]['OrderNumber'],\n",
    "                       'delivery_prediction': round(predict_proba_result_list[i][1],2)})\n",
    "result_list"
   ]
  },
  {
   "cell_type": "code",
   "execution_count": null,
   "id": "442c870c",
   "metadata": {},
   "outputs": [],
   "source": []
  }
 ],
 "metadata": {
  "kernelspec": {
   "display_name": "Python 3 (ipykernel)",
   "language": "python",
   "name": "python3"
  },
  "language_info": {
   "codemirror_mode": {
    "name": "ipython",
    "version": 3
   },
   "file_extension": ".py",
   "mimetype": "text/x-python",
   "name": "python",
   "nbconvert_exporter": "python",
   "pygments_lexer": "ipython3",
   "version": "3.11.0"
  }
 },
 "nbformat": 4,
 "nbformat_minor": 5
}
